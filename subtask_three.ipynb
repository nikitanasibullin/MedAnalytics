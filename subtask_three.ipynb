{
 "cells": [
  {
   "cell_type": "code",
   "execution_count": 325,
   "id": "caf57aed-f576-4e81-9aa7-d010a4ce9794",
   "metadata": {},
   "outputs": [],
   "source": [
    "import pandas as pd\n",
    "\n",
    "preproc_file = \"processed_data.csv\"\n",
    "\n",
    "df = pd.read_csv(preproc_file, sep=';', engine='python')\n",
    "\n",
    "therapy_applied = df.query(\"TherapyApply == 1\")\n",
    "therapy_not_applied = df.query(\"TherapyApply == 0\")\n",
    "\n"
   ]
  },
  {
   "cell_type": "code",
   "execution_count": 326,
   "id": "a41f34ec-07d8-402e-9e0c-b7e3f38ace82",
   "metadata": {},
   "outputs": [
    {
     "data": {
      "text/html": [
       "<div>\n",
       "<style scoped>\n",
       "    .dataframe tbody tr th:only-of-type {\n",
       "        vertical-align: middle;\n",
       "    }\n",
       "\n",
       "    .dataframe tbody tr th {\n",
       "        vertical-align: top;\n",
       "    }\n",
       "\n",
       "    .dataframe thead th {\n",
       "        text-align: right;\n",
       "    }\n",
       "</style>\n",
       "<table border=\"1\" class=\"dataframe\">\n",
       "  <thead>\n",
       "    <tr style=\"text-align: right;\">\n",
       "      <th></th>\n",
       "      <th>CaseID</th>\n",
       "      <th>Gender</th>\n",
       "      <th>Age</th>\n",
       "      <th>Outcome</th>\n",
       "      <th>Vacin</th>\n",
       "      <th>TherapyApply</th>\n",
       "      <th>Результат_F</th>\n",
       "      <th>Результат_D</th>\n",
       "      <th>Severity</th>\n",
       "      <th>Meds</th>\n",
       "      <th>Duration</th>\n",
       "    </tr>\n",
       "  </thead>\n",
       "  <tbody>\n",
       "    <tr>\n",
       "      <th>0</th>\n",
       "      <td>376917</td>\n",
       "      <td>ж</td>\n",
       "      <td>65.0</td>\n",
       "      <td>Выписан</td>\n",
       "      <td>Нет</td>\n",
       "      <td>1</td>\n",
       "      <td>135.9</td>\n",
       "      <td>423.90</td>\n",
       "      <td>Крайне тяжелое</td>\n",
       "      <td>0</td>\n",
       "      <td>67</td>\n",
       "    </tr>\n",
       "    <tr>\n",
       "      <th>1</th>\n",
       "      <td>390158</td>\n",
       "      <td>м</td>\n",
       "      <td>73.0</td>\n",
       "      <td>Выписан</td>\n",
       "      <td>Нет</td>\n",
       "      <td>1</td>\n",
       "      <td>1024.5</td>\n",
       "      <td>578.65</td>\n",
       "      <td>Тяжелое</td>\n",
       "      <td>0</td>\n",
       "      <td>45</td>\n",
       "    </tr>\n",
       "    <tr>\n",
       "      <th>2</th>\n",
       "      <td>390185</td>\n",
       "      <td>ж</td>\n",
       "      <td>57.0</td>\n",
       "      <td>Умер</td>\n",
       "      <td>Нет</td>\n",
       "      <td>1</td>\n",
       "      <td>606.0</td>\n",
       "      <td>349.60</td>\n",
       "      <td>Крайне тяжелое</td>\n",
       "      <td>0</td>\n",
       "      <td>44</td>\n",
       "    </tr>\n",
       "    <tr>\n",
       "      <th>3</th>\n",
       "      <td>390093</td>\n",
       "      <td>ж</td>\n",
       "      <td>66.0</td>\n",
       "      <td>Умер</td>\n",
       "      <td>Нет</td>\n",
       "      <td>1</td>\n",
       "      <td>586.9</td>\n",
       "      <td>486.70</td>\n",
       "      <td>Крайне тяжелое</td>\n",
       "      <td>0</td>\n",
       "      <td>35</td>\n",
       "    </tr>\n",
       "    <tr>\n",
       "      <th>4</th>\n",
       "      <td>390165</td>\n",
       "      <td>м</td>\n",
       "      <td>56.0</td>\n",
       "      <td>Выписан</td>\n",
       "      <td>Спутник V</td>\n",
       "      <td>1</td>\n",
       "      <td>1013.0</td>\n",
       "      <td>417.30</td>\n",
       "      <td>Крайне тяжелое</td>\n",
       "      <td>0</td>\n",
       "      <td>41</td>\n",
       "    </tr>\n",
       "  </tbody>\n",
       "</table>\n",
       "</div>"
      ],
      "text/plain": [
       "   CaseID Gender   Age  Outcome      Vacin  TherapyApply  Результат_F  \\\n",
       "0  376917      ж  65.0  Выписан        Нет             1        135.9   \n",
       "1  390158      м  73.0  Выписан        Нет             1       1024.5   \n",
       "2  390185      ж  57.0     Умер        Нет             1        606.0   \n",
       "3  390093      ж  66.0     Умер        Нет             1        586.9   \n",
       "4  390165      м  56.0  Выписан  Спутник V             1       1013.0   \n",
       "\n",
       "   Результат_D        Severity  Meds  Duration  \n",
       "0       423.90  Крайне тяжелое     0        67  \n",
       "1       578.65         Тяжелое     0        45  \n",
       "2       349.60  Крайне тяжелое     0        44  \n",
       "3       486.70  Крайне тяжелое     0        35  \n",
       "4       417.30  Крайне тяжелое     0        41  "
      ]
     },
     "execution_count": 326,
     "metadata": {},
     "output_type": "execute_result"
    }
   ],
   "source": [
    "therapy_applied.head()"
   ]
  },
  {
   "cell_type": "code",
   "execution_count": 327,
   "id": "880cad1a-c28a-4f69-95a5-539560d71e25",
   "metadata": {},
   "outputs": [
    {
     "data": {
      "text/html": [
       "<div>\n",
       "<style scoped>\n",
       "    .dataframe tbody tr th:only-of-type {\n",
       "        vertical-align: middle;\n",
       "    }\n",
       "\n",
       "    .dataframe tbody tr th {\n",
       "        vertical-align: top;\n",
       "    }\n",
       "\n",
       "    .dataframe thead th {\n",
       "        text-align: right;\n",
       "    }\n",
       "</style>\n",
       "<table border=\"1\" class=\"dataframe\">\n",
       "  <thead>\n",
       "    <tr style=\"text-align: right;\">\n",
       "      <th></th>\n",
       "      <th>CaseID</th>\n",
       "      <th>Gender</th>\n",
       "      <th>Age</th>\n",
       "      <th>Outcome</th>\n",
       "      <th>Vacin</th>\n",
       "      <th>TherapyApply</th>\n",
       "      <th>Результат_F</th>\n",
       "      <th>Результат_D</th>\n",
       "      <th>Severity</th>\n",
       "      <th>Meds</th>\n",
       "      <th>Duration</th>\n",
       "    </tr>\n",
       "  </thead>\n",
       "  <tbody>\n",
       "    <tr>\n",
       "      <th>2451</th>\n",
       "      <td>390819</td>\n",
       "      <td>ж</td>\n",
       "      <td>79.0</td>\n",
       "      <td>Выписан</td>\n",
       "      <td>Нет</td>\n",
       "      <td>0</td>\n",
       "      <td>565.25</td>\n",
       "      <td>853.6</td>\n",
       "      <td>Тяжелое</td>\n",
       "      <td>0</td>\n",
       "      <td>54</td>\n",
       "    </tr>\n",
       "    <tr>\n",
       "      <th>2452</th>\n",
       "      <td>390409</td>\n",
       "      <td>ж</td>\n",
       "      <td>49.0</td>\n",
       "      <td>Выписан</td>\n",
       "      <td>Нет</td>\n",
       "      <td>0</td>\n",
       "      <td>387.90</td>\n",
       "      <td>285.9</td>\n",
       "      <td>Тяжелое</td>\n",
       "      <td>0</td>\n",
       "      <td>45</td>\n",
       "    </tr>\n",
       "    <tr>\n",
       "      <th>2453</th>\n",
       "      <td>390794</td>\n",
       "      <td>ж</td>\n",
       "      <td>65.0</td>\n",
       "      <td>Выписан</td>\n",
       "      <td>Нет</td>\n",
       "      <td>0</td>\n",
       "      <td>606.00</td>\n",
       "      <td>349.6</td>\n",
       "      <td>Тяжелое</td>\n",
       "      <td>0</td>\n",
       "      <td>40</td>\n",
       "    </tr>\n",
       "    <tr>\n",
       "      <th>2454</th>\n",
       "      <td>390448</td>\n",
       "      <td>м</td>\n",
       "      <td>44.0</td>\n",
       "      <td>Выписан</td>\n",
       "      <td>Нет</td>\n",
       "      <td>0</td>\n",
       "      <td>1082.00</td>\n",
       "      <td>320.6</td>\n",
       "      <td>Среднетяжелое</td>\n",
       "      <td>0</td>\n",
       "      <td>35</td>\n",
       "    </tr>\n",
       "    <tr>\n",
       "      <th>2455</th>\n",
       "      <td>390760</td>\n",
       "      <td>ж</td>\n",
       "      <td>69.0</td>\n",
       "      <td>Выписан</td>\n",
       "      <td>Нет</td>\n",
       "      <td>0</td>\n",
       "      <td>586.90</td>\n",
       "      <td>486.7</td>\n",
       "      <td>Тяжелое</td>\n",
       "      <td>0</td>\n",
       "      <td>29</td>\n",
       "    </tr>\n",
       "  </tbody>\n",
       "</table>\n",
       "</div>"
      ],
      "text/plain": [
       "      CaseID Gender   Age  Outcome Vacin  TherapyApply  Результат_F  \\\n",
       "2451  390819      ж  79.0  Выписан   Нет             0       565.25   \n",
       "2452  390409      ж  49.0  Выписан   Нет             0       387.90   \n",
       "2453  390794      ж  65.0  Выписан   Нет             0       606.00   \n",
       "2454  390448      м  44.0  Выписан   Нет             0      1082.00   \n",
       "2455  390760      ж  69.0  Выписан   Нет             0       586.90   \n",
       "\n",
       "      Результат_D       Severity  Meds  Duration  \n",
       "2451        853.6        Тяжелое     0        54  \n",
       "2452        285.9        Тяжелое     0        45  \n",
       "2453        349.6        Тяжелое     0        40  \n",
       "2454        320.6  Среднетяжелое     0        35  \n",
       "2455        486.7        Тяжелое     0        29  "
      ]
     },
     "execution_count": 327,
     "metadata": {},
     "output_type": "execute_result"
    }
   ],
   "source": [
    "therapy_not_applied.head()"
   ]
  },
  {
   "cell_type": "code",
   "execution_count": 328,
   "id": "655a5826-9d64-49d0-995c-71a5adcfca56",
   "metadata": {},
   "outputs": [],
   "source": [
    "therapy_applied_men = therapy_applied.query(\"Gender == 'м'\")\n",
    "therapy_applied_women = therapy_applied.query(\"Gender == 'ж'\")\n",
    "\n",
    "therapy_not_applied_men = therapy_not_applied.query(\"Gender == 'м'\")\n",
    "therapy_not_applied_women = therapy_not_applied.query(\"Gender == 'ж'\")\n",
    "\n"
   ]
  },
  {
   "cell_type": "code",
   "execution_count": 329,
   "id": "50a85bf9-a8ba-44d8-9e37-7d32e953ddd3",
   "metadata": {},
   "outputs": [
    {
     "data": {
      "text/html": [
       "<div>\n",
       "<style scoped>\n",
       "    .dataframe tbody tr th:only-of-type {\n",
       "        vertical-align: middle;\n",
       "    }\n",
       "\n",
       "    .dataframe tbody tr th {\n",
       "        vertical-align: top;\n",
       "    }\n",
       "\n",
       "    .dataframe thead th {\n",
       "        text-align: right;\n",
       "    }\n",
       "</style>\n",
       "<table border=\"1\" class=\"dataframe\">\n",
       "  <thead>\n",
       "    <tr style=\"text-align: right;\">\n",
       "      <th></th>\n",
       "      <th>CaseID</th>\n",
       "      <th>Gender</th>\n",
       "      <th>Age</th>\n",
       "      <th>Outcome</th>\n",
       "      <th>Vacin</th>\n",
       "      <th>TherapyApply</th>\n",
       "      <th>Результат_F</th>\n",
       "      <th>Результат_D</th>\n",
       "      <th>Severity</th>\n",
       "      <th>Meds</th>\n",
       "      <th>Duration</th>\n",
       "    </tr>\n",
       "  </thead>\n",
       "  <tbody>\n",
       "    <tr>\n",
       "      <th>1</th>\n",
       "      <td>390158</td>\n",
       "      <td>м</td>\n",
       "      <td>73.0</td>\n",
       "      <td>Выписан</td>\n",
       "      <td>Нет</td>\n",
       "      <td>1</td>\n",
       "      <td>1024.5</td>\n",
       "      <td>578.65</td>\n",
       "      <td>Тяжелое</td>\n",
       "      <td>0</td>\n",
       "      <td>45</td>\n",
       "    </tr>\n",
       "    <tr>\n",
       "      <th>4</th>\n",
       "      <td>390165</td>\n",
       "      <td>м</td>\n",
       "      <td>56.0</td>\n",
       "      <td>Выписан</td>\n",
       "      <td>Спутник V</td>\n",
       "      <td>1</td>\n",
       "      <td>1013.0</td>\n",
       "      <td>417.30</td>\n",
       "      <td>Крайне тяжелое</td>\n",
       "      <td>0</td>\n",
       "      <td>41</td>\n",
       "    </tr>\n",
       "    <tr>\n",
       "      <th>5</th>\n",
       "      <td>390089</td>\n",
       "      <td>м</td>\n",
       "      <td>63.0</td>\n",
       "      <td>Умер</td>\n",
       "      <td>Нет</td>\n",
       "      <td>1</td>\n",
       "      <td>1013.0</td>\n",
       "      <td>417.30</td>\n",
       "      <td>Тяжелое</td>\n",
       "      <td>0</td>\n",
       "      <td>23</td>\n",
       "    </tr>\n",
       "    <tr>\n",
       "      <th>6</th>\n",
       "      <td>390142</td>\n",
       "      <td>м</td>\n",
       "      <td>56.0</td>\n",
       "      <td>Выписан</td>\n",
       "      <td>Нет</td>\n",
       "      <td>1</td>\n",
       "      <td>1013.0</td>\n",
       "      <td>417.30</td>\n",
       "      <td>Тяжелое</td>\n",
       "      <td>0</td>\n",
       "      <td>40</td>\n",
       "    </tr>\n",
       "    <tr>\n",
       "      <th>8</th>\n",
       "      <td>390164</td>\n",
       "      <td>м</td>\n",
       "      <td>42.0</td>\n",
       "      <td>Выписан</td>\n",
       "      <td>Нет</td>\n",
       "      <td>1</td>\n",
       "      <td>1082.0</td>\n",
       "      <td>320.60</td>\n",
       "      <td>Крайне тяжелое</td>\n",
       "      <td>0</td>\n",
       "      <td>26</td>\n",
       "    </tr>\n",
       "  </tbody>\n",
       "</table>\n",
       "</div>"
      ],
      "text/plain": [
       "   CaseID Gender   Age  Outcome      Vacin  TherapyApply  Результат_F  \\\n",
       "1  390158      м  73.0  Выписан        Нет             1       1024.5   \n",
       "4  390165      м  56.0  Выписан  Спутник V             1       1013.0   \n",
       "5  390089      м  63.0     Умер        Нет             1       1013.0   \n",
       "6  390142      м  56.0  Выписан        Нет             1       1013.0   \n",
       "8  390164      м  42.0  Выписан        Нет             1       1082.0   \n",
       "\n",
       "   Результат_D        Severity  Meds  Duration  \n",
       "1       578.65         Тяжелое     0        45  \n",
       "4       417.30  Крайне тяжелое     0        41  \n",
       "5       417.30         Тяжелое     0        23  \n",
       "6       417.30         Тяжелое     0        40  \n",
       "8       320.60  Крайне тяжелое     0        26  "
      ]
     },
     "execution_count": 329,
     "metadata": {},
     "output_type": "execute_result"
    }
   ],
   "source": [
    "therapy_applied_men.head()"
   ]
  },
  {
   "cell_type": "code",
   "execution_count": 330,
   "id": "7ecae268-fde8-4e16-98bd-295754a15886",
   "metadata": {},
   "outputs": [
    {
     "name": "stdout",
     "output_type": "stream",
     "text": [
      "Men applied therapy (1059, 11)\n",
      "Women applied therapy (1392, 11)\n",
      "Men not applied therapy (2343, 11)\n",
      "Women not applied therapy (3704, 11)\n"
     ]
    }
   ],
   "source": [
    "\n",
    "print(f\"Men applied therapy {therapy_applied_men.shape}\")\n",
    "print(f\"Women applied therapy {therapy_applied_women.shape}\")\n",
    "print(f\"Men not applied therapy {therapy_not_applied_men.shape}\")\n",
    "print(f\"Women not applied therapy {therapy_not_applied_women.shape}\")\n"
   ]
  },
  {
   "cell_type": "code",
   "execution_count": 331,
   "id": "0df5e120-4ef1-4139-b00c-89bcd0ca6bab",
   "metadata": {},
   "outputs": [],
   "source": [
    "therapy_applied_men.loc[therapy_applied_men['Результат_F'] > 3000, 'Результат_F'] = 3200\n",
    "therapy_applied_women.loc[therapy_applied_women['Результат_F'] > 3000, 'Результат_F'] = 3200\n",
    "therapy_not_applied_men.loc[therapy_not_applied_men['Результат_F'] > 3000, 'Результат_F'] = 3200\n",
    "therapy_not_applied_women.loc[therapy_not_applied_women['Результат_F'] > 3000, 'Результат_F'] = 3200\n",
    "\n",
    "therapy_applied_men.loc[therapy_applied_men['Результат_D'] > 3000, 'Результат_D'] = 3200\n",
    "therapy_applied_women.loc[therapy_applied_women['Результат_D'] > 3000, 'Результат_D'] = 3200\n",
    "therapy_not_applied_men.loc[therapy_not_applied_men['Результат_D'] > 3000, 'Результат_D'] = 3200\n",
    "therapy_not_applied_women.loc[therapy_not_applied_women['Результат_D'] > 3000, 'Результат_D'] = 3200\n",
    "\n",
    "\n",
    "def generate_pairs(applied, not_applied, vacin = False):\n",
    "    pairs = []\n",
    "    used = set()\n",
    "\n",
    "    eps = 1e-10\n",
    "    for index, first in applied.iterrows():\n",
    "        basic_match = (not_applied['Gender'] == first['Gender']) & (abs(not_applied['Age'] - first['Age']) <= 3)\n",
    "        fd_match = (abs(not_applied['Результат_F'] - first['Результат_F']) / not_applied['Результат_F'].replace(0, eps) <= 0.1) & (abs(not_applied['Результат_D'] - first['Результат_D']) / not_applied['Результат_D'].replace(0, eps) <= 0.1)\n",
    "        severity_match = (((first['Severity'] == \"Крайне тяжелое\") | (first['Severity'] == \"Тяжелое\")) & \\\n",
    "                    ((not_applied['Severity'] == \"Крайне тяжелое\") | (not_applied['Severity'] == \"Тяжелое\"))) | \\\n",
    "                    ((first['Severity'] == \"Среднетяжелое\") & (not_applied['Severity'] == \"Среднетяжелое\"))\n",
    "        vacin_match = (~vacin) | ( not_applied['Vacin'] == first['Vacin'] )\n",
    "        mask = basic_match & fd_match & severity_match & vacin_match\n",
    "        filtered = not_applied[mask]\n",
    "        for sIndex, second in filtered.iterrows():\n",
    "            if sIndex not in used:\n",
    "                pairs.append([first, second])\n",
    "                used.add(sIndex)\n",
    "            \n",
    "    return pairs\n",
    "pairs_men_vacin = generate_pairs(therapy_applied_men, therapy_not_applied_men, True)\n",
    "pairs_women_vacin = generate_pairs(therapy_applied_women, therapy_not_applied_women, True)\n",
    "\n",
    "pairs_men = generate_pairs(therapy_applied_men, therapy_not_applied_men, False)\n",
    "pairs_women = generate_pairs(therapy_applied_women, therapy_not_applied_women, False)\n",
    "\n"
   ]
  },
  {
   "cell_type": "code",
   "execution_count": 332,
   "id": "e977d9e6-6dff-4b68-a418-5d713a1bc038",
   "metadata": {},
   "outputs": [
    {
     "data": {
      "text/html": [
       "<div>\n",
       "<style scoped>\n",
       "    .dataframe tbody tr th:only-of-type {\n",
       "        vertical-align: middle;\n",
       "    }\n",
       "\n",
       "    .dataframe tbody tr th {\n",
       "        vertical-align: top;\n",
       "    }\n",
       "\n",
       "    .dataframe thead th {\n",
       "        text-align: right;\n",
       "    }\n",
       "</style>\n",
       "<table border=\"1\" class=\"dataframe\">\n",
       "  <thead>\n",
       "    <tr style=\"text-align: right;\">\n",
       "      <th></th>\n",
       "      <th>CaseID</th>\n",
       "      <th>Gender</th>\n",
       "      <th>Age</th>\n",
       "      <th>Outcome</th>\n",
       "      <th>Vacin</th>\n",
       "      <th>TherapyApply</th>\n",
       "      <th>Результат_F</th>\n",
       "      <th>Результат_D</th>\n",
       "      <th>Severity</th>\n",
       "      <th>Meds</th>\n",
       "      <th>Duration</th>\n",
       "    </tr>\n",
       "  </thead>\n",
       "  <tbody>\n",
       "    <tr>\n",
       "      <th>0</th>\n",
       "      <td>390158</td>\n",
       "      <td>м</td>\n",
       "      <td>73.0</td>\n",
       "      <td>Выписан</td>\n",
       "      <td>Нет</td>\n",
       "      <td>1</td>\n",
       "      <td>1024.5</td>\n",
       "      <td>578.65</td>\n",
       "      <td>Тяжелое</td>\n",
       "      <td>0</td>\n",
       "      <td>45</td>\n",
       "    </tr>\n",
       "    <tr>\n",
       "      <th>1</th>\n",
       "      <td>390392</td>\n",
       "      <td>м</td>\n",
       "      <td>71.0</td>\n",
       "      <td>Выписан</td>\n",
       "      <td>Нет</td>\n",
       "      <td>0</td>\n",
       "      <td>1024.5</td>\n",
       "      <td>578.65</td>\n",
       "      <td>Тяжелое</td>\n",
       "      <td>0</td>\n",
       "      <td>40</td>\n",
       "    </tr>\n",
       "    <tr>\n",
       "      <th>2</th>\n",
       "      <td>390158</td>\n",
       "      <td>м</td>\n",
       "      <td>73.0</td>\n",
       "      <td>Выписан</td>\n",
       "      <td>Нет</td>\n",
       "      <td>1</td>\n",
       "      <td>1024.5</td>\n",
       "      <td>578.65</td>\n",
       "      <td>Тяжелое</td>\n",
       "      <td>0</td>\n",
       "      <td>45</td>\n",
       "    </tr>\n",
       "    <tr>\n",
       "      <th>3</th>\n",
       "      <td>390594</td>\n",
       "      <td>м</td>\n",
       "      <td>70.0</td>\n",
       "      <td>Выписан</td>\n",
       "      <td>Нет</td>\n",
       "      <td>0</td>\n",
       "      <td>1024.5</td>\n",
       "      <td>578.65</td>\n",
       "      <td>Тяжелое</td>\n",
       "      <td>0</td>\n",
       "      <td>26</td>\n",
       "    </tr>\n",
       "    <tr>\n",
       "      <th>4</th>\n",
       "      <td>390158</td>\n",
       "      <td>м</td>\n",
       "      <td>73.0</td>\n",
       "      <td>Выписан</td>\n",
       "      <td>Нет</td>\n",
       "      <td>1</td>\n",
       "      <td>1024.5</td>\n",
       "      <td>578.65</td>\n",
       "      <td>Тяжелое</td>\n",
       "      <td>0</td>\n",
       "      <td>45</td>\n",
       "    </tr>\n",
       "    <tr>\n",
       "      <th>5</th>\n",
       "      <td>390225</td>\n",
       "      <td>м</td>\n",
       "      <td>74.0</td>\n",
       "      <td>Выписан</td>\n",
       "      <td>Нет</td>\n",
       "      <td>0</td>\n",
       "      <td>1024.5</td>\n",
       "      <td>578.65</td>\n",
       "      <td>Тяжелое</td>\n",
       "      <td>0</td>\n",
       "      <td>28</td>\n",
       "    </tr>\n",
       "  </tbody>\n",
       "</table>\n",
       "</div>"
      ],
      "text/plain": [
       "   CaseID Gender   Age  Outcome Vacin  TherapyApply  Результат_F  Результат_D  \\\n",
       "0  390158      м  73.0  Выписан   Нет             1       1024.5       578.65   \n",
       "1  390392      м  71.0  Выписан   Нет             0       1024.5       578.65   \n",
       "2  390158      м  73.0  Выписан   Нет             1       1024.5       578.65   \n",
       "3  390594      м  70.0  Выписан   Нет             0       1024.5       578.65   \n",
       "4  390158      м  73.0  Выписан   Нет             1       1024.5       578.65   \n",
       "5  390225      м  74.0  Выписан   Нет             0       1024.5       578.65   \n",
       "\n",
       "  Severity  Meds  Duration  \n",
       "0  Тяжелое     0        45  \n",
       "1  Тяжелое     0        40  \n",
       "2  Тяжелое     0        45  \n",
       "3  Тяжелое     0        26  \n",
       "4  Тяжелое     0        45  \n",
       "5  Тяжелое     0        28  "
      ]
     },
     "execution_count": 332,
     "metadata": {},
     "output_type": "execute_result"
    }
   ],
   "source": [
    "def make_df(pairs):\n",
    "    all_data = []\n",
    "    for pair in pairs:\n",
    "        all_data.append(pair[0].to_dict())\n",
    "        all_data.append(pair[1].to_dict())\n",
    "    return pd.DataFrame(all_data)\n",
    "df_men = make_df(pairs_men)\n",
    "df_women = make_df(pairs_women)\n",
    "df_men.head(6)"
   ]
  },
  {
   "cell_type": "markdown",
   "id": "eb9082a4-00ad-4623-93a0-08d7aabff7ed",
   "metadata": {},
   "source": [
    "Без учёта вакцинации"
   ]
  },
  {
   "cell_type": "code",
   "execution_count": 333,
   "id": "3d461873-99ff-4a4e-b10c-e45ac218a969",
   "metadata": {},
   "outputs": [
    {
     "name": "stdout",
     "output_type": "stream",
     "text": [
      "842\n",
      "1333\n"
     ]
    }
   ],
   "source": [
    "print(len(pairs_men))\n",
    "print(len(pairs_women))"
   ]
  },
  {
   "cell_type": "markdown",
   "id": "b6f41320-89f1-406e-a14a-fc4492138561",
   "metadata": {},
   "source": [
    "С учётом вакцинации"
   ]
  },
  {
   "cell_type": "code",
   "execution_count": 334,
   "id": "2b2d623a-9ba0-408d-8a6e-766e1461bde2",
   "metadata": {},
   "outputs": [
    {
     "name": "stdout",
     "output_type": "stream",
     "text": [
      "842\n",
      "1333\n"
     ]
    }
   ],
   "source": [
    "print(len(pairs_men_vacin))\n",
    "print(len(pairs_women_vacin))"
   ]
  },
  {
   "cell_type": "markdown",
   "id": "996a3d1a-3e4a-4db1-85e4-31bca5b6b600",
   "metadata": {},
   "source": [
    "## Оценим сопоставимость групп по указанным факторам "
   ]
  },
  {
   "cell_type": "code",
   "execution_count": 335,
   "id": "d2d4cc4e-e5bb-4722-b8b8-c7e49ebbe809",
   "metadata": {},
   "outputs": [],
   "source": [
    "import math\n",
    "import scipy.stats as stats\n",
    "#Логично, что группы по тяжести заболевания и по полу - абсолютно сопоставимы, так как мы учитываем эти критерии для подбора пар\n",
    "#Посмотрим на остальные критерии:"
   ]
  },
  {
   "cell_type": "markdown",
   "id": "19fba4b8-d761-4886-9033-334cc1e075c4",
   "metadata": {},
   "source": [
    "### Возраст"
   ]
  },
  {
   "cell_type": "code",
   "execution_count": 336,
   "id": "d300e936-08fd-4bb3-9bac-1cd32ac7f84e",
   "metadata": {},
   "outputs": [
    {
     "name": "stdout",
     "output_type": "stream",
     "text": [
      "средняя разница = 0.033563218390804596\n",
      "стандартное отклонение разниц = 2.029574525821706\n",
      "Возраст: t-статистика = 0.7712, p-value = 0.4406\n"
     ]
    }
   ],
   "source": [
    "pairs_len = len(pairs_men)+len(pairs_women)\n",
    "dYear = 0.0\n",
    "for i in range(len(pairs_men)):\n",
    "    dYear += pairs_men[i][0]['Age']-pairs_men[i][1]['Age']\n",
    "for i in range(len(pairs_women)):\n",
    "    dYear += pairs_women[i][0]['Age']-pairs_women[i][1]['Age']\n",
    "mean_difference=dYear/pairs_len\n",
    "print(f'средняя разница = {mean_difference}')\n",
    "\n",
    "sdYear=0.0\n",
    "for i in range(len(pairs_men)):\n",
    "    sdYear += ((pairs_men[i][0]['Age']-pairs_men[i][1]['Age'])-stand_difference)**2\n",
    "for i in range(len(pairs_women)):\n",
    "    sdYear += ((pairs_women[i][0]['Age']-pairs_women[i][1]['Age'])-stand_difference)**2\n",
    "deviation_difference=math.sqrt(sdYear/(pairs_len-1))\n",
    "print(f'стандартное отклонение разниц = {deviation_difference}')\n",
    "\n",
    "t_stat = mean_difference / (deviation_difference / math.sqrt(pairs_len))\n",
    "degreeFree = pairs_len - 1\n",
    "p_value = 2 * (1 - stats.t.cdf(abs(t_stat), degreeFree))\n",
    "\n",
    "print(f\"Возраст: t-статистика = {t_stat:.4f}, p-value = {p_value:.4f}\")"
   ]
  },
  {
   "cell_type": "markdown",
   "id": "da8e6bbf-817d-456a-b540-d949689e1d6a",
   "metadata": {},
   "source": [
    "### Результат_F"
   ]
  },
  {
   "cell_type": "code",
   "execution_count": 337,
   "id": "bb3d4a24-8579-4464-8ae0-d2b5657797a8",
   "metadata": {},
   "outputs": [
    {
     "name": "stdout",
     "output_type": "stream",
     "text": [
      "средняя разница = -1.7142942528735643\n",
      "стандартное отклонение разниц = 52.178248692690126\n",
      "Возраст: t-статистика = -1.5322, p-value = 0.1256\n"
     ]
    }
   ],
   "source": [
    "dres_F = 0.0\n",
    "for i in range(len(pairs_men)):\n",
    "    dres_F += pairs_men[i][0]['Результат_F']-pairs_men[i][1]['Результат_F']\n",
    "for i in range(len(pairs_women)):\n",
    "    dres_F += pairs_women[i][0]['Результат_F']-pairs_women[i][1]['Результат_F']\n",
    "mean_difference=dres_F/pairs_len\n",
    "print(f'средняя разница = {mean_difference}')\n",
    "\n",
    "sres_F=0.0\n",
    "for i in range(len(pairs_men)):\n",
    "    sres_F += ((pairs_men[i][0]['Результат_F']-pairs_men[i][1]['Результат_F'])-stand_difference)**2\n",
    "for i in range(len(pairs_women)):\n",
    "    sres_F += ((pairs_women[i][0]['Результат_F']-pairs_women[i][1]['Результат_F'])-stand_difference)**2\n",
    "deviation_difference=math.sqrt(sres_F/(pairs_len-1))\n",
    "print(f'стандартное отклонение разниц = {deviation_difference}')\n",
    "\n",
    "t_stat = mean_difference / (deviation_difference / math.sqrt(pairs_len))\n",
    "degreeFree = pairs_len - 1\n",
    "p_value = 2 * (1 - stats.t.cdf(abs(t_stat), degreeFree))\n",
    "\n",
    "print(f\"Возраст: t-статистика = {t_stat:.4f}, p-value = {p_value:.4f}\")"
   ]
  },
  {
   "cell_type": "markdown",
   "id": "99916760-10fd-4719-a56d-9e0679666b88",
   "metadata": {},
   "source": [
    "### Результат_D"
   ]
  },
  {
   "cell_type": "code",
   "execution_count": 338,
   "id": "5f0e2ca2-d319-4764-a95d-55dcf00e9094",
   "metadata": {},
   "outputs": [
    {
     "name": "stdout",
     "output_type": "stream",
     "text": [
      "средняя разница = -1.2101931034482725\n",
      "стандартное отклонение разниц = 45.27129381267368\n",
      "Возраст: t-статистика = -1.2467, p-value = 0.2126\n"
     ]
    }
   ],
   "source": [
    "dres_D = 0.0\n",
    "for i in range(len(pairs_men)):\n",
    "    dres_D += pairs_men[i][0]['Результат_D']-pairs_men[i][1]['Результат_D']\n",
    "for i in range(len(pairs_women)):\n",
    "    dres_D += pairs_women[i][0]['Результат_D']-pairs_women[i][1]['Результат_D']\n",
    "mean_difference=dres_D/pairs_len\n",
    "print(f'средняя разница = {mean_difference}')\n",
    "\n",
    "sres_D=0.0\n",
    "for i in range(len(pairs_men)):\n",
    "    sres_D += ((pairs_men[i][0]['Результат_D']-pairs_men[i][1]['Результат_D'])-stand_difference)**2\n",
    "for i in range(len(pairs_women)):\n",
    "    sres_D += ((pairs_women[i][0]['Результат_D']-pairs_women[i][1]['Результат_D'])-stand_difference)**2\n",
    "deviation_difference=math.sqrt(sres_D/(pairs_len-1))\n",
    "print(f'стандартное отклонение разниц = {deviation_difference}')\n",
    "\n",
    "t_stat = mean_difference / (deviation_difference / math.sqrt(pairs_len))\n",
    "degreeFree = pairs_len - 1\n",
    "p_value = 2 * (1 - stats.t.cdf(abs(t_stat), degreeFree))\n",
    "\n",
    "print(f\"Возраст: t-статистика = {t_stat:.4f}, p-value = {p_value:.4f}\")"
   ]
  },
  {
   "cell_type": "code",
   "execution_count": 339,
   "id": "8aee884f-e917-4e07-bb9a-05e7f826f2a3",
   "metadata": {},
   "outputs": [
    {
     "name": "stdout",
     "output_type": "stream",
     "text": [
      "Таблица сопряженности:\n",
      "                      Без тарапии (выписан)  Без терапии (умер)\n",
      "С терапией (выписан)                   1532                 203\n",
      "С терапией (умер)                       185                 255\n"
     ]
    },
    {
     "data": {
      "text/plain": [
       "<Axes: >"
      ]
     },
     "execution_count": 339,
     "metadata": {},
     "output_type": "execute_result"
    },
    {
     "data": {
      "image/png": "[encoded data removed]",
      "text/plain": [
       "<Figure size 640x480 with 1 Axes>"
      ]
     },
     "metadata": {},
     "output_type": "display_data"
    }
   ],
   "source": [
    "both_died = 0\n",
    "both_survived=0\n",
    "only_therapy_survived=0\n",
    "only_without_therapy_survived=0\n",
    "for i in range(len(pairs_men)):\n",
    "    if pairs_men[i][0]['Outcome']=='Выписан' and pairs_men[i][1]['Outcome']=='Выписан':\n",
    "        both_survived+=1\n",
    "    elif pairs_men[i][0]['Outcome']=='Выписан' and pairs_men[i][1]['Outcome']=='Умер':\n",
    "        only_therapy_survived+=1\n",
    "    elif pairs_men[i][0]['Outcome']=='Умер' and pairs_men[i][1]['Outcome']=='Выписан':\n",
    "        only_without_therapy_survived+=1\n",
    "    else:\n",
    "        both_died+=1\n",
    "\n",
    "for i in range(len(pairs_women)):\n",
    "    if pairs_women[i][0]['Outcome']=='Выписан' and pairs_women[i][1]['Outcome']=='Выписан':\n",
    "        both_survived+=1\n",
    "    elif pairs_women[i][0]['Outcome']=='Выписан' and pairs_women[i][1]['Outcome']=='Умер':\n",
    "        only_therapy_survived+=1\n",
    "    elif pairs_women[i][0]['Outcome']=='Умер' and pairs_women[i][1]['Outcome']=='Выписан':\n",
    "        only_without_therapy_survived+=1\n",
    "    else:\n",
    "        both_died+=1\n",
    "\n",
    "contingency_table = pd.DataFrame({\n",
    "    'Без тарапии (выписан)': [both_survived, only_without_therapy_survived],\n",
    "    'Без терапии (умер)': [only_therapy_survived, both_died]},\n",
    "    index=['С терапией (выписан)', 'С терапией (умер)']\n",
    ")\n",
    "\n",
    "print(\"Таблица сопряженности:\")\n",
    "print(contingency_table)\n",
    "sns.heatmap(contingency_table, annot=True, fmt='d', cmap='Blues', cbar=False)\n"
   ]
  },
  {
   "cell_type": "code",
   "execution_count": 340,
   "id": "1bc44229-a924-41d0-b53e-a85597ef70f4",
   "metadata": {},
   "outputs": [
    {
     "name": "stdout",
     "output_type": "stream",
     "text": [
      "Общее количество пациентов: 2175\n",
      "Выживаемость в группе С терапией: 79.8%\n",
      "Выживаемость в группе БЕЗ терапии: 78.9%\n"
     ]
    },
    {
     "data": {
      "image/png": "[encoded data removed]",
      "text/plain": [
       "<Figure size 800x600 with 1 Axes>"
      ]
     },
     "metadata": {},
     "output_type": "display_data"
    }
   ],
   "source": [
    "\n",
    "\n",
    "# Расчет процентов\n",
    "percent_with_drug_survived = (1532 + 203) / pairs_len * 100\n",
    "percent_without_drug_survived = (1532 + 185) / pairs_len * 100\n",
    "\n",
    "print(f\"Общее количество пациентов: {pairs_len}\")\n",
    "print(f\"Выживаемость в группе С терапией: {percent_with_drug_survived:.1f}%\")\n",
    "print(f\"Выживаемость в группе БЕЗ терапии: {percent_without_drug_survived:.1f}%\")\n",
    "\n",
    "survival_data = pd.DataFrame({\n",
    "    'Группа': ['С терапией', 'Без терапии'],\n",
    "    'Выживаемость (%)': [percent_with_drug_survived, percent_without_drug_survived]\n",
    "})\n",
    "\n",
    "plt.figure(figsize=(8, 6))\n",
    "bars = plt.bar(survival_data['Группа'], survival_data['Выживаемость (%)'], color=['blue', 'orange'])\n",
    "plt.ylabel('Процент выживших')\n",
    "plt.title('Сравнение выживаемости между группами')\n",
    "plt.ylim(70, 85)\n",
    "plt.show()\n"
   ]
  },
  {
   "cell_type": "code",
   "execution_count": 346,
   "id": "b86bc5be-c662-4ab9-9a25-398c6756d4b8",
   "metadata": {},
   "outputs": [
    {
     "name": "stdout",
     "output_type": "stream",
     "text": [
      "McNemar's test p-value: 0.3881\n"
     ]
    }
   ],
   "source": [
    "from statsmodels.stats.contingency_tables import mcnemar\n",
    "\n",
    "# Используем только информативные пары (где исходы различаются)\n",
    "pairs = [[both_survived, only_therapy_survived ],\n",
    "                     [only_without_therapy_survived, both_died]]\n",
    "\n",
    "result = mcnemar(pd.DataFrame(pairs))\n",
    "print(f\"McNemar's test p-value: {result.pvalue:.4f}\")"
   ]
  },
  {
   "cell_type": "code",
   "execution_count": 347,
   "id": "a7329d7f-008a-417f-8251-2c73d50fa230",
   "metadata": {},
   "outputs": [],
   "source": [
    "therapy_days = []\n",
    "no_therapy_days = []\n",
    "\n",
    "for pair in pairs_men + pairs_women:\n",
    "    t, n = pair[0], pair[1]\n",
    "    if t['Outcome'] == 'Выписан' and n['Outcome'] == 'Выписан':\n",
    "        therapy_days.append(t['Duration'])\n",
    "        no_therapy_days.append(n['Duration'])"
   ]
  },
  {
   "cell_type": "code",
   "execution_count": 348,
   "id": "07cf58d7-4a82-4d2b-9b9f-0c907fa6dbf9",
   "metadata": {},
   "outputs": [
    {
     "name": "stdout",
     "output_type": "stream",
     "text": [
      "С терапией: среднее = 15.25, std = 8.07\n",
      "Без терапии: среднее = 11.76, std = 7.21\n"
     ]
    }
   ],
   "source": [
    "import numpy as np\n",
    "import matplotlib.pyplot as plt\n",
    "import seaborn as sns\n",
    "\n",
    "mean_therapy = np.mean(therapy_days)\n",
    "mean_no_therapy = np.mean(no_therapy_days)\n",
    "\n",
    "std_therapy = np.std(therapy_days, ddof=1)\n",
    "std_no_therapy = np.std(no_therapy_days, ddof=1)\n",
    "\n",
    "print(f\"С терапией: среднее = {mean_therapy:.2f}, std = {std_therapy:.2f}\")\n",
    "print(f\"Без терапии: среднее = {mean_no_therapy:.2f}, std = {std_no_therapy:.2f}\")"
   ]
  },
  {
   "cell_type": "code",
   "execution_count": 349,
   "id": "3f59df35-827d-4d53-a82a-2a45f8ee71b0",
   "metadata": {},
   "outputs": [
    {
     "data": {
      "image/png": "[encoded data removed]",
      "text/plain": [
       "<Figure size 1200x600 with 2 Axes>"
      ]
     },
     "metadata": {},
     "output_type": "display_data"
    }
   ],
   "source": [
    "plt.figure(figsize=(12, 6))\n",
    "\n",
    "plt.subplot(1, 2, 1)\n",
    "sns.boxplot(data=[therapy_days, no_therapy_days])\n",
    "plt.xticks([0, 1], ['С терапией', 'Без терапии'])\n",
    "plt.ylabel('Дни лечения')\n",
    "\n",
    "plt.subplot(1, 2, 2)\n",
    "sns.histplot(therapy_days, color='blue', alpha=0.5, label='С терапией')\n",
    "sns.histplot(no_therapy_days, color='orange', alpha=0.5, label='Без терапии')\n",
    "plt.xlabel('Дни лечения')\n",
    "plt.ylabel('Частота')\n",
    "plt.legend()\n",
    "\n",
    "plt.tight_layout()\n",
    "plt.show()"
   ]
  },
  {
   "cell_type": "code",
   "execution_count": null,
   "id": "797a2c4f-b5c2-4193-a51e-5b09d94c0c21",
   "metadata": {},
   "outputs": [],
   "source": []
  }
 ],
 "metadata": {
  "kernelspec": {
   "display_name": "Python 3 (ipykernel)",
   "language": "python",
   "name": "python3"
  },
  "language_info": {
   "codemirror_mode": {
    "name": "ipython",
    "version": 3
   },
   "file_extension": ".py",
   "mimetype": "text/x-python",
   "name": "python",
   "nbconvert_exporter": "python",
   "pygments_lexer": "ipython3",
   "version": "3.11.4"
  }
 },
 "nbformat": 4,
 "nbformat_minor": 5
}
