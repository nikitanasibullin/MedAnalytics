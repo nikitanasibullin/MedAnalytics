{
 "cells": [
  {
   "cell_type": "code",
   "execution_count": 1,
   "id": "c03f7f87-695b-4c18-bc8d-8882dd20cdb1",
   "metadata": {},
   "outputs": [],
   "source": [
    "import pandas as pd\n",
    "import seaborn as sns\n",
    "import numpy as np\n",
    "import matplotlib.pyplot as plt"
   ]
  },
  {
   "cell_type": "code",
   "execution_count": 2,
   "id": "b613b997-f1f4-478b-bf34-7ec9e918b14d",
   "metadata": {},
   "outputs": [],
   "source": [
    "data_file = pd.read_csv(\"processed_data.csv\", sep=';')"
   ]
  },
  {
   "cell_type": "code",
   "execution_count": 3,
   "id": "6093d931-6bfa-4139-9c9e-895fd0f74767",
   "metadata": {},
   "outputs": [],
   "source": [
    "#заменим исходы на 0 и 1, где 0 - умер, 1 - выписан\n",
    "data_file['Outcome'] = np.where(data_file['Outcome'].str.contains('Умер'),0,1)\n",
    "#Разделяем нашу табличку по столбцу TherapyApply:\n",
    "with_therapy = data_file[data_file['TherapyApply'] == 1]\n",
    "without_therapy = data_file[data_file['TherapyApply'] == 0]"
   ]
  },
  {
   "cell_type": "code",
   "execution_count": 4,
   "id": "8e378f01-c15d-4d34-bab2-7e77bd44b48a",
   "metadata": {},
   "outputs": [
    {
     "data": {
      "text/html": [
       "<div>\n",
       "<style scoped>\n",
       "    .dataframe tbody tr th:only-of-type {\n",
       "        vertical-align: middle;\n",
       "    }\n",
       "\n",
       "    .dataframe tbody tr th {\n",
       "        vertical-align: top;\n",
       "    }\n",
       "\n",
       "    .dataframe thead th {\n",
       "        text-align: right;\n",
       "    }\n",
       "</style>\n",
       "<table border=\"1\" class=\"dataframe\">\n",
       "  <thead>\n",
       "    <tr style=\"text-align: right;\">\n",
       "      <th></th>\n",
       "      <th>CaseID</th>\n",
       "      <th>Age</th>\n",
       "      <th>Outcome</th>\n",
       "      <th>TherapyApply</th>\n",
       "      <th>Результат_F</th>\n",
       "      <th>Результат_D</th>\n",
       "      <th>Meds</th>\n",
       "      <th>Duration</th>\n",
       "    </tr>\n",
       "  </thead>\n",
       "  <tbody>\n",
       "    <tr>\n",
       "      <th>count</th>\n",
       "      <td>6047.000000</td>\n",
       "      <td>6047.000000</td>\n",
       "      <td>6047.00000</td>\n",
       "      <td>6047.0</td>\n",
       "      <td>6047.000000</td>\n",
       "      <td>6047.000000</td>\n",
       "      <td>6047.000000</td>\n",
       "      <td>6047.000000</td>\n",
       "    </tr>\n",
       "    <tr>\n",
       "      <th>mean</th>\n",
       "      <td>354468.800397</td>\n",
       "      <td>65.485861</td>\n",
       "      <td>0.78171</td>\n",
       "      <td>0.0</td>\n",
       "      <td>728.585168</td>\n",
       "      <td>1039.773030</td>\n",
       "      <td>0.005292</td>\n",
       "      <td>11.339838</td>\n",
       "    </tr>\n",
       "    <tr>\n",
       "      <th>std</th>\n",
       "      <td>82337.902434</td>\n",
       "      <td>17.167784</td>\n",
       "      <td>0.41312</td>\n",
       "      <td>0.0</td>\n",
       "      <td>533.455632</td>\n",
       "      <td>1350.899749</td>\n",
       "      <td>0.072559</td>\n",
       "      <td>7.621425</td>\n",
       "    </tr>\n",
       "    <tr>\n",
       "      <th>min</th>\n",
       "      <td>731.000000</td>\n",
       "      <td>18.000000</td>\n",
       "      <td>0.00000</td>\n",
       "      <td>0.0</td>\n",
       "      <td>1.190000</td>\n",
       "      <td>0.100000</td>\n",
       "      <td>0.000000</td>\n",
       "      <td>0.000000</td>\n",
       "    </tr>\n",
       "    <tr>\n",
       "      <th>25%</th>\n",
       "      <td>380383.000000</td>\n",
       "      <td>55.000000</td>\n",
       "      <td>1.00000</td>\n",
       "      <td>0.0</td>\n",
       "      <td>272.750000</td>\n",
       "      <td>254.175000</td>\n",
       "      <td>0.000000</td>\n",
       "      <td>6.000000</td>\n",
       "    </tr>\n",
       "    <tr>\n",
       "      <th>50%</th>\n",
       "      <td>383289.000000</td>\n",
       "      <td>68.000000</td>\n",
       "      <td>1.00000</td>\n",
       "      <td>0.0</td>\n",
       "      <td>601.700000</td>\n",
       "      <td>486.700000</td>\n",
       "      <td>0.000000</td>\n",
       "      <td>10.000000</td>\n",
       "    </tr>\n",
       "    <tr>\n",
       "      <th>75%</th>\n",
       "      <td>386649.000000</td>\n",
       "      <td>80.000000</td>\n",
       "      <td>1.00000</td>\n",
       "      <td>0.0</td>\n",
       "      <td>1082.000000</td>\n",
       "      <td>1157.000000</td>\n",
       "      <td>0.000000</td>\n",
       "      <td>14.000000</td>\n",
       "    </tr>\n",
       "    <tr>\n",
       "      <th>max</th>\n",
       "      <td>390866.000000</td>\n",
       "      <td>100.000000</td>\n",
       "      <td>1.00000</td>\n",
       "      <td>0.0</td>\n",
       "      <td>4662.000000</td>\n",
       "      <td>9000.000000</td>\n",
       "      <td>1.000000</td>\n",
       "      <td>109.000000</td>\n",
       "    </tr>\n",
       "  </tbody>\n",
       "</table>\n",
       "</div>"
      ],
      "text/plain": [
       "              CaseID          Age     Outcome  TherapyApply  Результат_F  \\\n",
       "count    6047.000000  6047.000000  6047.00000        6047.0  6047.000000   \n",
       "mean   354468.800397    65.485861     0.78171           0.0   728.585168   \n",
       "std     82337.902434    17.167784     0.41312           0.0   533.455632   \n",
       "min       731.000000    18.000000     0.00000           0.0     1.190000   \n",
       "25%    380383.000000    55.000000     1.00000           0.0   272.750000   \n",
       "50%    383289.000000    68.000000     1.00000           0.0   601.700000   \n",
       "75%    386649.000000    80.000000     1.00000           0.0  1082.000000   \n",
       "max    390866.000000   100.000000     1.00000           0.0  4662.000000   \n",
       "\n",
       "       Результат_D         Meds     Duration  \n",
       "count  6047.000000  6047.000000  6047.000000  \n",
       "mean   1039.773030     0.005292    11.339838  \n",
       "std    1350.899749     0.072559     7.621425  \n",
       "min       0.100000     0.000000     0.000000  \n",
       "25%     254.175000     0.000000     6.000000  \n",
       "50%     486.700000     0.000000    10.000000  \n",
       "75%    1157.000000     0.000000    14.000000  \n",
       "max    9000.000000     1.000000   109.000000  "
      ]
     },
     "execution_count": 4,
     "metadata": {},
     "output_type": "execute_result"
    }
   ],
   "source": [
    "#некоторые статистики\n",
    "without_therapy.describe()"
   ]
  },
  {
   "cell_type": "code",
   "execution_count": 5,
   "id": "cd4c884f-1880-47fa-bcf3-df8d72969d93",
   "metadata": {},
   "outputs": [
    {
     "data": {
      "text/html": [
       "<div>\n",
       "<style scoped>\n",
       "    .dataframe tbody tr th:only-of-type {\n",
       "        vertical-align: middle;\n",
       "    }\n",
       "\n",
       "    .dataframe tbody tr th {\n",
       "        vertical-align: top;\n",
       "    }\n",
       "\n",
       "    .dataframe thead th {\n",
       "        text-align: right;\n",
       "    }\n",
       "</style>\n",
       "<table border=\"1\" class=\"dataframe\">\n",
       "  <thead>\n",
       "    <tr style=\"text-align: right;\">\n",
       "      <th></th>\n",
       "      <th>CaseID</th>\n",
       "      <th>Age</th>\n",
       "      <th>Outcome</th>\n",
       "      <th>TherapyApply</th>\n",
       "      <th>Результат_F</th>\n",
       "      <th>Результат_D</th>\n",
       "      <th>Meds</th>\n",
       "      <th>Duration</th>\n",
       "    </tr>\n",
       "  </thead>\n",
       "  <tbody>\n",
       "    <tr>\n",
       "      <th>count</th>\n",
       "      <td>2451.000000</td>\n",
       "      <td>2451.000000</td>\n",
       "      <td>2451.000000</td>\n",
       "      <td>2451.0</td>\n",
       "      <td>2451.000000</td>\n",
       "      <td>2451.000000</td>\n",
       "      <td>2451.000000</td>\n",
       "      <td>2451.000000</td>\n",
       "    </tr>\n",
       "    <tr>\n",
       "      <th>mean</th>\n",
       "      <td>355919.730314</td>\n",
       "      <td>64.144023</td>\n",
       "      <td>0.742962</td>\n",
       "      <td>1.0</td>\n",
       "      <td>900.542795</td>\n",
       "      <td>833.621612</td>\n",
       "      <td>0.101999</td>\n",
       "      <td>15.407181</td>\n",
       "    </tr>\n",
       "    <tr>\n",
       "      <th>std</th>\n",
       "      <td>79554.380208</td>\n",
       "      <td>15.081468</td>\n",
       "      <td>0.437090</td>\n",
       "      <td>0.0</td>\n",
       "      <td>548.805772</td>\n",
       "      <td>1106.402081</td>\n",
       "      <td>0.302709</td>\n",
       "      <td>8.842283</td>\n",
       "    </tr>\n",
       "    <tr>\n",
       "      <th>min</th>\n",
       "      <td>66.000000</td>\n",
       "      <td>22.000000</td>\n",
       "      <td>0.000000</td>\n",
       "      <td>1.0</td>\n",
       "      <td>1.000000</td>\n",
       "      <td>4.700000</td>\n",
       "      <td>0.000000</td>\n",
       "      <td>0.000000</td>\n",
       "    </tr>\n",
       "    <tr>\n",
       "      <th>25%</th>\n",
       "      <td>380990.500000</td>\n",
       "      <td>54.000000</td>\n",
       "      <td>0.000000</td>\n",
       "      <td>1.0</td>\n",
       "      <td>434.600000</td>\n",
       "      <td>246.650000</td>\n",
       "      <td>0.000000</td>\n",
       "      <td>10.000000</td>\n",
       "    </tr>\n",
       "    <tr>\n",
       "      <th>50%</th>\n",
       "      <td>384198.000000</td>\n",
       "      <td>66.000000</td>\n",
       "      <td>1.000000</td>\n",
       "      <td>1.0</td>\n",
       "      <td>873.200000</td>\n",
       "      <td>428.700000</td>\n",
       "      <td>0.000000</td>\n",
       "      <td>13.000000</td>\n",
       "    </tr>\n",
       "    <tr>\n",
       "      <th>75%</th>\n",
       "      <td>386604.500000</td>\n",
       "      <td>75.000000</td>\n",
       "      <td>1.000000</td>\n",
       "      <td>1.0</td>\n",
       "      <td>1318.000000</td>\n",
       "      <td>853.600000</td>\n",
       "      <td>0.000000</td>\n",
       "      <td>18.000000</td>\n",
       "    </tr>\n",
       "    <tr>\n",
       "      <th>max</th>\n",
       "      <td>390206.000000</td>\n",
       "      <td>99.000000</td>\n",
       "      <td>1.000000</td>\n",
       "      <td>1.0</td>\n",
       "      <td>3154.000000</td>\n",
       "      <td>9000.000000</td>\n",
       "      <td>1.000000</td>\n",
       "      <td>90.000000</td>\n",
       "    </tr>\n",
       "  </tbody>\n",
       "</table>\n",
       "</div>"
      ],
      "text/plain": [
       "              CaseID          Age      Outcome  TherapyApply  Результат_F  \\\n",
       "count    2451.000000  2451.000000  2451.000000        2451.0  2451.000000   \n",
       "mean   355919.730314    64.144023     0.742962           1.0   900.542795   \n",
       "std     79554.380208    15.081468     0.437090           0.0   548.805772   \n",
       "min        66.000000    22.000000     0.000000           1.0     1.000000   \n",
       "25%    380990.500000    54.000000     0.000000           1.0   434.600000   \n",
       "50%    384198.000000    66.000000     1.000000           1.0   873.200000   \n",
       "75%    386604.500000    75.000000     1.000000           1.0  1318.000000   \n",
       "max    390206.000000    99.000000     1.000000           1.0  3154.000000   \n",
       "\n",
       "       Результат_D         Meds     Duration  \n",
       "count  2451.000000  2451.000000  2451.000000  \n",
       "mean    833.621612     0.101999    15.407181  \n",
       "std    1106.402081     0.302709     8.842283  \n",
       "min       4.700000     0.000000     0.000000  \n",
       "25%     246.650000     0.000000    10.000000  \n",
       "50%     428.700000     0.000000    13.000000  \n",
       "75%     853.600000     0.000000    18.000000  \n",
       "max    9000.000000     1.000000    90.000000  "
      ]
     },
     "execution_count": 5,
     "metadata": {},
     "output_type": "execute_result"
    }
   ],
   "source": [
    "with_therapy.describe()"
   ]
  },
  {
   "cell_type": "code",
   "execution_count": 6,
   "id": "b6920581-358f-459f-8602-34102df53db8",
   "metadata": {},
   "outputs": [],
   "source": [
    "#высчитываем статистики:\n",
    "def find_statistic(table, name):\n",
    "    statistics= {\n",
    "        'Group' : name,\n",
    "        'Count' : len(table),\n",
    "        '% Male': (table['Gender'].value_counts(normalize=True).get('м') * 100).round(2),\n",
    "        '% Female': (table['Gender'].value_counts(normalize=True).get('ж') * 100).round(2),\n",
    "        'Mean Age': table['Age'].mean().round(2),\n",
    "        '% Mortality': (table['Outcome'].value_counts(normalize=True).get(0) * 100)\n",
    "        }\n",
    "    return statistics\n"
   ]
  },
  {
   "cell_type": "code",
   "execution_count": 7,
   "id": "8cc5eeb4-0e80-4617-9e1f-1447ee6eabaa",
   "metadata": {},
   "outputs": [
    {
     "name": "stdout",
     "output_type": "stream",
     "text": [
      "Statistics:\n",
      "             Group  Count  % Male  % Female  Mean Age  % Mortality\n",
      "0  Therapy Applied   2451   43.21     56.79     64.14    25.703794\n",
      "1       No Therapy   6047   38.75     61.25     65.49    21.829006\n"
     ]
    }
   ],
   "source": [
    "# Расчет статистики для обеих групп\n",
    "stats_1 = find_statistic(with_therapy, 'Therapy Applied')\n",
    "stats_0 = find_statistic(without_therapy, 'No Therapy')\n",
    "\n",
    "# Создание DataFrame со статистикой\n",
    "stats_df = pd.DataFrame([stats_1, stats_0])\n",
    "\n",
    "# Вывод статистики\n",
    "print(\"Statistics:\")\n",
    "print(stats_df)"
   ]
  },
  {
   "cell_type": "code",
   "execution_count": 8,
   "id": "062342c7-b9fd-49cf-a03f-cf8677e59f70",
   "metadata": {},
   "outputs": [
    {
     "data": {
      "text/html": [
       "<div>\n",
       "<style scoped>\n",
       "    .dataframe tbody tr th:only-of-type {\n",
       "        vertical-align: middle;\n",
       "    }\n",
       "\n",
       "    .dataframe tbody tr th {\n",
       "        vertical-align: top;\n",
       "    }\n",
       "\n",
       "    .dataframe thead th {\n",
       "        text-align: right;\n",
       "    }\n",
       "</style>\n",
       "<table border=\"1\" class=\"dataframe\">\n",
       "  <thead>\n",
       "    <tr style=\"text-align: right;\">\n",
       "      <th></th>\n",
       "      <th>Group</th>\n",
       "      <th>Gender</th>\n",
       "      <th>Percentage</th>\n",
       "    </tr>\n",
       "  </thead>\n",
       "  <tbody>\n",
       "    <tr>\n",
       "      <th>0</th>\n",
       "      <td>Therapy Applied</td>\n",
       "      <td>% Male</td>\n",
       "      <td>43.21</td>\n",
       "    </tr>\n",
       "    <tr>\n",
       "      <th>1</th>\n",
       "      <td>No Therapy</td>\n",
       "      <td>% Male</td>\n",
       "      <td>38.75</td>\n",
       "    </tr>\n",
       "    <tr>\n",
       "      <th>2</th>\n",
       "      <td>Therapy Applied</td>\n",
       "      <td>% Female</td>\n",
       "      <td>56.79</td>\n",
       "    </tr>\n",
       "    <tr>\n",
       "      <th>3</th>\n",
       "      <td>No Therapy</td>\n",
       "      <td>% Female</td>\n",
       "      <td>61.25</td>\n",
       "    </tr>\n",
       "  </tbody>\n",
       "</table>\n",
       "</div>"
      ],
      "text/plain": [
       "             Group    Gender  Percentage\n",
       "0  Therapy Applied    % Male       43.21\n",
       "1       No Therapy    % Male       38.75\n",
       "2  Therapy Applied  % Female       56.79\n",
       "3       No Therapy  % Female       61.25"
      ]
     },
     "execution_count": 8,
     "metadata": {},
     "output_type": "execute_result"
    }
   ],
   "source": [
    "#Гендерное распределение\n",
    "#сливаем нашу статистику в три столбца\n",
    "gender_data = stats_df.melt(id_vars='Group', value_vars=['% Male', '% Female'], \n",
    "                           var_name='Gender', value_name='Percentage')\n",
    "gender_data.head(10)"
   ]
  },
  {
   "cell_type": "code",
   "execution_count": 9,
   "id": "48ed0d90-72bb-4b6a-a0ff-cf72d0daf5c5",
   "metadata": {},
   "outputs": [
    {
     "data": {
      "text/plain": [
       "Text(0, 0.5, 'Percentage (%)')"
      ]
     },
     "execution_count": 9,
     "metadata": {},
     "output_type": "execute_result"
    },
    {
     "data": {
      "image/png": "[encoded data removed]",
      "text/plain": [
       "<Figure size 640x480 with 1 Axes>"
      ]
     },
     "metadata": {},
     "output_type": "display_data"
    }
   ],
   "source": [
    "sns.barplot(data=gender_data, x='Group', y='Percentage', hue='Gender')\n",
    "plt.title('Gender Distribution')\n",
    "plt.ylabel('Percentage (%)')"
   ]
  },
  {
   "cell_type": "code",
   "execution_count": 10,
   "id": "242f3596-fdfc-4008-bb7c-fdd2f06505d0",
   "metadata": {},
   "outputs": [
    {
     "data": {
      "text/plain": [
       "(60.933, 65.81745)"
      ]
     },
     "execution_count": 10,
     "metadata": {},
     "output_type": "execute_result"
    },
    {
     "data": {
      "image/png": "[encoded data removed]",
      "text/plain": [
       "<Figure size 640x480 with 1 Axes>"
      ]
     },
     "metadata": {},
     "output_type": "display_data"
    }
   ],
   "source": [
    "#Средний возраст\n",
    "plt.subplot(2, 2, 2)\n",
    "sns.barplot(data=stats_df, x='Group', y='Mean Age')\n",
    "plt.title('Mean Age')\n",
    "plt.ylabel('Age')\n",
    "min_age = stats_df['Mean Age'].min()*0.95\n",
    "max_age = stats_df['Mean Age'].max() * 1.005\n",
    "plt.ylim(min_age, max_age)"
   ]
  },
  {
   "cell_type": "code",
   "execution_count": 11,
   "id": "3620e17c-c12c-4b1e-9167-0c8630441c8c",
   "metadata": {},
   "outputs": [
    {
     "data": {
      "text/plain": [
       "(19.646105506862906, 28.274173806609554)"
      ]
     },
     "execution_count": 11,
     "metadata": {},
     "output_type": "execute_result"
    },
    {
     "data": {
      "image/png": "[encoded data removed]",
      "text/plain": [
       "<Figure size 640x480 with 1 Axes>"
      ]
     },
     "metadata": {},
     "output_type": "display_data"
    }
   ],
   "source": [
    "#Смертность\n",
    "plt.subplot(2, 2, 3)\n",
    "sns.barplot(data=stats_df, x='Group', y='% Mortality')\n",
    "plt.title('Mortality Rate')\n",
    "plt.ylabel('Mortality (%)')\n",
    "min_mortality = stats_df['% Mortality'].min() * 0.9\n",
    "max_mortality = stats_df['% Mortality'].max() * 1.1\n",
    "plt.ylim(min_mortality, max_mortality)"
   ]
  },
  {
   "cell_type": "code",
   "execution_count": 16,
   "id": "e3a48aaa-4a00-417e-92e9-fa3c4c83836c",
   "metadata": {},
   "outputs": [
    {
     "data": {
      "image/png": "[encoded data removed]",
      "text/plain": [
       "<Figure size 800x600 with 1 Axes>"
      ]
     },
     "metadata": {},
     "output_type": "display_data"
    }
   ],
   "source": [
    "severity_therapy = data_file.groupby('Severity')['TherapyApply'].mean().reset_index()\n",
    "\n",
    "# Строим график\n",
    "plt.figure(figsize=(8, 6))\n",
    "sns.barplot(data=severity_therapy, x='Severity', y='TherapyApply', hue='Severity')\n",
    "plt.title('Rate of Therapy Application by Severity Level')\n",
    "plt.ylabel('Share of Patients with Therapy')\n",
    "plt.xlabel('Severity Level')\n",
    "plt.ylim(0, 1)\n",
    "plt.tight_layout()\n",
    "plt.show()"
   ]
  },
  {
   "cell_type": "code",
   "execution_count": null,
   "id": "3ba99788-3674-45cd-84ca-9aa7681741dc",
   "metadata": {},
   "outputs": [],
   "source": []
  }
 ],
 "metadata": {
  "kernelspec": {
   "display_name": "Python 3 (ipykernel)",
   "language": "python",
   "name": "python3"
  },
  "language_info": {
   "codemirror_mode": {
    "name": "ipython",
    "version": 3
   },
   "file_extension": ".py",
   "mimetype": "text/x-python",
   "name": "python",
   "nbconvert_exporter": "python",
   "pygments_lexer": "ipython3",
   "version": "3.11.4"
  }
 },
 "nbformat": 4,
 "nbformat_minor": 5
}
